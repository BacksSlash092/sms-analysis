{
 "cells": [
  {
   "cell_type": "markdown",
   "metadata": {},
   "source": [
    "See the README for an explanation of how this code runs and functions.\n",
    "\n",
    "Contact michaeldezube at gmail dot com with questions."
   ]
  },
  {
   "cell_type": "code",
   "execution_count": null,
   "metadata": {
    "collapsed": false,
    "scrolled": true
   },
   "outputs": [],
   "source": [
    "import table_connector\n",
    "\n",
    "import pandas as pd\n",
    "from IPython.display import display\n",
    "from IPython.display import HTML"
   ]
  },
  {
   "cell_type": "code",
   "execution_count": null,
   "metadata": {
    "collapsed": false,
    "scrolled": true
   },
   "outputs": [],
   "source": [
    "fully_merged_messages_df, address_book_df = table_connector.get_cleaned_fully_merged_messages()"
   ]
  },
  {
   "cell_type": "markdown",
   "metadata": {},
   "source": [
    "### Use `fully_merged_messages_df` and `address_book_df` for analysis, they contain all messages with columns for the sender and all contacts, respectively"
   ]
  },
  {
   "cell_type": "code",
   "execution_count": null,
   "metadata": {
    "collapsed": false,
    "scrolled": false
   },
   "outputs": [],
   "source": [
    "# Visualize and output a word tree.\n",
    "\n",
    "import json\n",
    "import wordtree\n",
    "\n",
    "CONTACT_NAME = 'Mom'  # Freely change this value.\n",
    "ROOT_WORD = 'feel'  # Freely change this value, note emojis are supported.\n",
    "\n",
    "filtered_texts = fully_merged_messages_df[(fully_merged_messages_df.full_name == CONTACT_NAME)]\n",
    "print 'I exchanged {0:,} texts with {1}'.format(filtered_texts.shape[0], CONTACT_NAME)\n",
    "\n",
    "filtered_texts_i_sent = filtered_texts[filtered_texts.is_from_me == 1]\n",
    "print 'I sent {0:,} texts to {1}'.format(filtered_texts_i_sent.shape[0], CONTACT_NAME)\n",
    "\n",
    "filtered_texts_i_received = filtered_texts[filtered_texts.is_from_me == 0]\n",
    "print 'I received {0:,} texts from {1}'.format(filtered_texts_i_received.shape[0], CONTACT_NAME)\n",
    "\n",
    "\n",
    "# Returns JSON in the format needed for word trees.\n",
    "def get_google_json_for_dataframe(df):\n",
    "    array_for_json = [[text[1]] for text in df.text.iteritems()]\n",
    "    array_for_json.insert(0, [['Phrases']])\n",
    "    return json.dumps(array_for_json)\n",
    "\n",
    "# You can change tree_type to 'double', 'suffix', or 'prefix', see \n",
    "# https://developers.google.com/chart/interactive/docs/gallery/wordtree#configuration-options for details\n",
    "HTML(wordtree.get_word_tree_html(get_google_json_for_dataframe(filtered_texts_i_received),\n",
    "                                 ROOT_WORD, lowercase=True, tree_type='double'))"
   ]
  },
  {
   "cell_type": "code",
   "execution_count": null,
   "metadata": {
    "collapsed": false
   },
   "outputs": [],
   "source": [
    "# Just a bit of fun to show you who you text the most.\n",
    "# Note \"nan\" means the number was not found in your address book.\n",
    "\n",
    "def get_message_counts(dataframe):\n",
    "    return pd.Series({'Texts sent': dataframe[dataframe.is_from_me == 1].shape[0],\n",
    "                      'Texts received': dataframe[dataframe.is_from_me == 0].shape[0],\n",
    "                      'Texts exchanged': dataframe.shape[0]})\n",
    "messages_grouped = fully_merged_messages_df.groupby('full_name').apply(get_message_counts)\n",
    "messages_grouped = messages_grouped.sort_values(by='Texts exchanged', ascending=False)\n",
    "messages_grouped.head(10)  # Change this value to see more rows"
   ]
  },
  {
   "cell_type": "code",
   "execution_count": null,
   "metadata": {
    "collapsed": false
   },
   "outputs": [],
   "source": [
    "# A bit more fun.\n",
    "%matplotlib inline\n",
    "import matplotlib\n",
    "matplotlib.style.use('ggplot')\n",
    "\n",
    "messages_grouped.head(10).plot(figsize=(20,10), kind='bar')  # Change this value to see more rows"
   ]
  }
 ],
 "metadata": {
  "kernelspec": {
   "display_name": "Python 2",
   "language": "python",
   "name": "python2"
  },
  "language_info": {
   "codemirror_mode": {
    "name": "ipython",
    "version": 2
   },
   "file_extension": ".py",
   "mimetype": "text/x-python",
   "name": "python",
   "nbconvert_exporter": "python",
   "pygments_lexer": "ipython2",
   "version": "2.7.11"
  }
 },
 "nbformat": 4,
 "nbformat_minor": 0
}
