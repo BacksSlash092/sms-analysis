{
 "cells": [
  {
   "cell_type": "markdown",
   "metadata": {},
   "source": [
    "See the README for an explanation of how this code runs and functions.\n",
    "\n",
    "Contact michaeldezube at gmail dot com with questions."
   ]
  },
  {
   "cell_type": "markdown",
   "metadata": {},
   "source": [
    "# Imports"
   ]
  },
  {
   "cell_type": "code",
   "execution_count": null,
   "metadata": {
    "collapsed": false
   },
   "outputs": [],
   "source": [
    "import json\n",
    "import re\n",
    "import string\n",
    "\n",
    "import matplotlib\n",
    "import matplotlib.pyplot as plt\n",
    "import pandas as pd\n",
    "import seaborn  # To improve the chart styling.\n",
    "import wordtree\n",
    "\n",
    "from IPython.display import display\n",
    "from IPython.display import HTML\n",
    "from IPython.display import Javascript\n",
    "from wordcloud import STOPWORDS\n",
    "import ipywidgets as widgets\n",
    "from wordcloud import WordCloud\n",
    "\n",
    "import table_connector"
   ]
  },
  {
   "cell_type": "markdown",
   "metadata": {},
   "source": [
    "# Load the data from disk and set up the dataframes"
   ]
  },
  {
   "cell_type": "code",
   "execution_count": null,
   "metadata": {
    "collapsed": false
   },
   "outputs": [],
   "source": [
    "%matplotlib inline\n",
    "matplotlib.style.use('ggplot')\n",
    "pd.set_option('display.max_colwidth', 1000)\n",
    "table_connector.initialize()\n",
    "\n",
    "fully_merged_messages_df, address_book_df = table_connector.get_cleaned_fully_merged_messages()\n",
    "full_names = set(address_book_df.full_name)  # Handy set to check for misspellings later on.\n",
    "fully_merged_messages_df.full_name.replace('nan nan nan', 'Unknown', inplace=True)"
   ]
  },
  {
   "cell_type": "code",
   "execution_count": null,
   "metadata": {
    "collapsed": false
   },
   "outputs": [],
   "source": [
    "fully_merged_messages_df.reset_index(drop=True)"
   ]
  },
  {
   "cell_type": "code",
   "execution_count": null,
   "metadata": {
    "collapsed": false
   },
   "outputs": [],
   "source": [
    "address_book_df"
   ]
  },
  {
   "cell_type": "markdown",
   "metadata": {},
   "source": [
    "### Use `fully_merged_messages_df` and `address_book_df` for analysis, they contain all messages with columns for the sender and all contacts, respectively"
   ]
  },
  {
   "cell_type": "markdown",
   "metadata": {},
   "source": [
    "# Visualize a word tree of texts exchanged with a specific contact"
   ]
  },
  {
   "cell_type": "code",
   "execution_count": null,
   "metadata": {
    "collapsed": false
   },
   "outputs": [],
   "source": [
    "CONTACT_NAME = 'Mom'  # Freely change this value.\n",
    "ROOT_WORD = 'feel'  # Freely change this value.\n",
    "\n",
    "filtered_texts = fully_merged_messages_df[(fully_merged_messages_df.full_name == CONTACT_NAME)]\n",
    "print 'I exchanged {0:,} texts with {1}'.format(filtered_texts.shape[0], CONTACT_NAME)\n",
    "\n",
    "filtered_texts_i_sent = filtered_texts[filtered_texts.is_from_me == 1]\n",
    "print 'I sent {0:,} texts to {1}'.format(filtered_texts_i_sent.shape[0], CONTACT_NAME)\n",
    "\n",
    "filtered_texts_i_received = filtered_texts[filtered_texts.is_from_me == 0]\n",
    "print 'I received {0:,} texts from {1}'.format(filtered_texts_i_received.shape[0], CONTACT_NAME)\n",
    "\n",
    "# Returns JSON in the format needed for word trees.\n",
    "def get_google_json_for_dataframe(df):\n",
    "    array_for_json = [[text[1]] for text in df.text.iteritems()]\n",
    "    array_for_json.insert(0, [['Phrases']])\n",
    "    return json.dumps(array_for_json)\n",
    "\n",
    "# You can change tree_type to 'double', 'suffix', or 'prefix', see \n",
    "# https://developers.google.com/chart/interactive/docs/gallery/wordtree#configuration-options for\n",
    "# details\n",
    "#\n",
    "# You can also change \"filtered_texts\" to \"filtered_texts_i_sent\" or \"filtered_texts_i_received\".\n",
    "\n",
    "# Note this requires an internet connection to load Google's JS library.\n",
    "HTML(wordtree.get_word_tree_html(get_google_json_for_dataframe(filtered_texts),\n",
    "                                 ROOT_WORD.lower(), lowercase=True, tree_type='double'))"
   ]
  },
  {
   "cell_type": "markdown",
   "metadata": {},
   "source": [
    "# Table and graph of who you text the most"
   ]
  },
  {
   "cell_type": "code",
   "execution_count": null,
   "metadata": {
    "collapsed": false,
    "scrolled": true
   },
   "outputs": [],
   "source": [
    "# Note \"Unknown\" means the number was not found in your address book.\n",
    "\n",
    "def get_message_counts(dataframe):\n",
    "    return pd.Series({'Texts sent': dataframe[dataframe.is_from_me == 1].shape[0],\n",
    "                      'Texts received': dataframe[dataframe.is_from_me == 0].shape[0],\n",
    "                      'Texts exchanged': dataframe.shape[0]})\n",
    "messages_grouped = fully_merged_messages_df.groupby('full_name').apply(get_message_counts)\n",
    "messages_grouped = messages_grouped.sort_values(by='Texts exchanged', ascending=False)\n",
    "\n",
    "widgets.interact(messages_grouped.head,\n",
    "                 n=widgets.IntSlider(min=5, max=50, step=1, value=5, continuous_update=False,\n",
    "                                     description='Number of people to show:'))"
   ]
  },
  {
   "cell_type": "code",
   "execution_count": null,
   "metadata": {
    "collapsed": false,
    "scrolled": false
   },
   "outputs": [],
   "source": [
    "# Helper method so we can wrap it with interact().\n",
    "def _plot_most_common_text(top_n=10):\n",
    "    messages_grouped.head(top_n).plot(figsize=(20,10), kind='bar')\n",
    "   \n",
    "widgets.interact(_plot_most_common_text,\n",
    "                 top_n=widgets.IntSlider(min=5, max=100, step=1, value=5, continuous_update=False,\n",
    "                                         description='Number of people to show:'))"
   ]
  },
  {
   "cell_type": "markdown",
   "metadata": {},
   "source": [
    "# Steamgraph"
   ]
  },
  {
   "cell_type": "markdown",
   "metadata": {},
   "source": [
    "### Dump the necessary data to JS"
   ]
  },
  {
   "cell_type": "code",
   "execution_count": null,
   "metadata": {
    "collapsed": false,
    "scrolled": false
   },
   "outputs": [],
   "source": [
    "# Restrict to the top N people you text the most so the steamgraph is legible.\n",
    "TOP_N = 10  # Freely change this value.\n",
    "\n",
    "sliced_df = fully_merged_messages_df[fully_merged_messages_df.full_name.isin(messages_grouped.head(TOP_N).index)]\n",
    "grouped_by_month = sliced_df.groupby([\n",
    "    sliced_df.apply(lambda x: x.date.strftime('%Y/%m'), axis=1),\n",
    "    'full_name']\n",
    ")['text'].count().to_frame()\n",
    "\n",
    "grouped_by_month = grouped_by_month.sort_index()\n",
    "# We create a dense dataframe for every year/month combination so even if a person didn't text in a specific\n",
    "# year/month, we have a 0 so the steamgraph can propertly graph the value.\n",
    "grouped_by_month_dense = grouped_by_month.unstack().fillna(0).stack()\n",
    "\n",
    "# Dump the dataframe to a global JS variable so we can access it in our JS code.\n",
    "# TODO(mdezube): Dump out as JSON instead.\n",
    "formatted_for_steamgraph = grouped_by_month_dense.reset_index(level=1)\n",
    "formatted_for_steamgraph.index.name = 'date'\n",
    "formatted_for_steamgraph.columns = ['key', 'value']\n",
    "Javascript(\"window.csvAsString='{}'\".format(formatted_for_steamgraph.to_csv(index_label='date').replace('\\n', '\\\\n')))"
   ]
  },
  {
   "cell_type": "markdown",
   "metadata": {},
   "source": [
    "### Draw the graph!"
   ]
  },
  {
   "cell_type": "code",
   "execution_count": null,
   "metadata": {
    "collapsed": false,
    "scrolled": false
   },
   "outputs": [],
   "source": [
    "%%javascript\n",
    "// Draw the streamgraph using d3.\n",
    "\n",
    "element.append('<div class=\"chart\" style=\"height:600px; width:100%\"></div>')\n",
    "element.append('<style>.axis path, .axis line' + \n",
    "               '{fill: none; stroke: #000;stroke-width: 2px; shape-rendering: crispEdges;}' + \n",
    "               '</style>')\n",
    "\n",
    "element.append(\"<script src='d3.min.js'></script>\")\n",
    "element.append(\"<script src='colorbrewer.min.js'></script>\")\n",
    "element.append(\"<script src='steamgraph.js'></script>\")\n",
    "\n",
    "// Choose your favorite from https://bl.ocks.org/mbostock/5577023\n",
    "var colorBrewerPalette = \"Spectral\";\n",
    "\n",
    "// Set a timeout to let the JS scripts actually load into memory, this is a bit of a hack but works reliably.\n",
    "setTimeout(function(){createSteamgraph(csvAsString, colorBrewerPalette)}, 200);"
   ]
  },
  {
   "cell_type": "markdown",
   "metadata": {},
   "source": [
    "# Wordcloud"
   ]
  },
  {
   "cell_type": "markdown",
   "metadata": {},
   "source": [
    "### Define the helper method"
   ]
  },
  {
   "cell_type": "code",
   "execution_count": null,
   "metadata": {
    "collapsed": true
   },
   "outputs": [],
   "source": [
    "def generate_cloud(texts, max_words=30):\n",
    "    # Add more words here if you want to ignore them:\n",
    "    my_stopwords = STOPWORDS.copy()\n",
    "    my_stopwords.update(['go', 'ya', 'come', 'back', 'good', 'sound'])\n",
    "    words = ' '.join(texts).lower()\n",
    "    wordcloud = WordCloud(font_path='CabinSketch-Bold.ttf',\n",
    "                          stopwords=my_stopwords,\n",
    "                          background_color='black',\n",
    "                          width=800,\n",
    "                          height=600,\n",
    "                          relative_scaling=1,\n",
    "                          max_words=max_words\n",
    "                         ).generate_from_text(words)\n",
    "    print 'Based on {0:,} texts'.format(len(texts))\n",
    "    \n",
    "    fig, ax = plt.subplots(figsize=(15,10))\n",
    "    ax.imshow(wordcloud)\n",
    "    ax.axis('off')\n",
    "    plt.show()"
   ]
  },
  {
   "cell_type": "markdown",
   "metadata": {},
   "source": [
    "### Texts you've sent"
   ]
  },
  {
   "cell_type": "code",
   "execution_count": null,
   "metadata": {
    "collapsed": false,
    "scrolled": false
   },
   "outputs": [],
   "source": [
    "# Word cloud of the top 25 words I use based on the most recent 30,000 messages.\n",
    "\n",
    "texts_from_me = fully_merged_messages_df[fully_merged_messages_df.is_from_me == 1].text[-30000:]\n",
    "widgets.interact(generate_cloud,\n",
    "                 texts=widgets.fixed(texts_from_me),\n",
    "                 max_words=widgets.IntSlider(min=5,max=50,step=1,value=10, continuous_update=False,\n",
    "                                             description='Max words to include:'))"
   ]
  },
  {
   "cell_type": "markdown",
   "metadata": {},
   "source": [
    "### Text to/from a specific contact"
   ]
  },
  {
   "cell_type": "code",
   "execution_count": null,
   "metadata": {
    "collapsed": false,
    "scrolled": false
   },
   "outputs": [],
   "source": [
    "# Helper method so we can wrap it with interact().\n",
    "def _word_cloud_specific_contact(max_words, from_me, contact):\n",
    "    if contact not in full_names:\n",
    "        print contact + ' not found'\n",
    "        return\n",
    "    sliced_df = fully_merged_messages_df[(fully_merged_messages_df.full_name == contact) &\n",
    "                                         (fully_merged_messages_df.is_from_me == from_me)].text\n",
    "    generate_cloud(sliced_df, max_words)\n",
    "\n",
    "widgets.interact(_word_cloud_specific_contact,\n",
    "                 max_words=widgets.IntSlider(min=5,max=50,step=1,value=10, continuous_update=False,\n",
    "                                             description='Max words to show:'),\n",
    "                 from_me=widgets.RadioButtons(options={'Show messages FROM me': True,\n",
    "                                                       'Show messages TO me': False},\n",
    "                                              description=' '),\n",
    "                 contact=widgets.Text(value='Mom', description='Contact name:')\n",
    "                )"
   ]
  }
 ],
 "metadata": {
  "kernelspec": {
   "display_name": "Python 2",
   "language": "python",
   "name": "python2"
  },
  "language_info": {
   "codemirror_mode": {
    "name": "ipython",
    "version": 2
   },
   "file_extension": ".py",
   "mimetype": "text/x-python",
   "name": "python",
   "nbconvert_exporter": "python",
   "pygments_lexer": "ipython2",
   "version": "2.7.12"
  }
 },
 "nbformat": 4,
 "nbformat_minor": 0
}
