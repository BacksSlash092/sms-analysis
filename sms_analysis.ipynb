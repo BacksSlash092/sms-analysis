{
 "cells": [
  {
   "cell_type": "markdown",
   "metadata": {},
   "source": [
    "See the README for an explanation of how this code runs and functions.\n",
    "\n",
    "Contact michaeldezube at gmail dot com with questions."
   ]
  },
  {
   "cell_type": "code",
   "execution_count": null,
   "metadata": {
    "collapsed": false,
    "scrolled": true
   },
   "outputs": [],
   "source": [
    "import table_connector\n",
    "\n",
    "import pandas as pd\n",
    "from IPython.display import display\n",
    "from IPython.display import HTML"
   ]
  },
  {
   "cell_type": "code",
   "execution_count": null,
   "metadata": {
    "collapsed": false,
    "scrolled": true
   },
   "outputs": [],
   "source": [
    "# Load up the message and address book dateframe.\n",
    "\n",
    "messages_df = table_connector.get_message_df()\n",
    "# Drop some columns that we don't use now, but may in the future.\n",
    "messages_df.drop(['version', 'is_emote', 'is_read','is_system_message',\n",
    "                  'is_service_message', 'has_dd_results'],\n",
    "                  inplace=True, axis=1)\n",
    "print 'Loaded {0:,} messages.'.format(messages_df.shape[0])\n",
    "display(messages_df.head(1))\n",
    "\n",
    "\n",
    "address_book_df = table_connector.get_address_book()\n",
    "# Drop a column that we don't use now, but may in the future.\n",
    "address_book_df = address_book_df.drop('property', axis=1)\n",
    "print 'Loaded {0:,} contacts.'.format(address_book_df.shape[0])\n",
    "display(address_book_df.head(1))"
   ]
  },
  {
   "cell_type": "code",
   "execution_count": null,
   "metadata": {
    "collapsed": false,
    "scrolled": true
   },
   "outputs": [],
   "source": [
    "# Join the address book (it has the names) with the messages.\n",
    "\n",
    "# Joins the address book dataframe with the messages dataframe.\n",
    "fully_merged_messages_df = table_connector.get_merged_message_df(messages_df, address_book_df)\n",
    "# Drop a few columns we don't care about for now\n",
    "fully_merged_messages_df = fully_merged_messages_df.drop(['handle_id',\n",
    "                                                          'country_messages_df',\n",
    "                                                          'country_other_join_tbl',\n",
    "                                                          'service_messages_df',\n",
    "                                                          'service_other_join_tbl'],\n",
    "                                                          axis=1)\n",
    "\n",
    "print 'Messages with phone numbers not found in address book: {0:,}'.format(\n",
    "    fully_merged_messages_df[fully_merged_messages_df.merge_chat_with_address != 'both'].shape[0])\n",
    "print ('Messages loaded: {0:,} (this is larger than the length of the messages_df since certain '\n",
    "       'message IDs were sent in group messages.)').format(fully_merged_messages_df.shape[0])\n",
    "\n",
    "# Drop the messages dateframe since we have a merged version as well.\n",
    "del messages_df\n",
    "# Drop some columns that we're no longer going to need.\n",
    "fully_merged_messages_df = fully_merged_messages_df.drop(['merge_chat_with_address',\n",
    "                                                          'merge_chat_with_address_and_messages'],\n",
    "                                                          axis=1)"
   ]
  },
  {
   "cell_type": "code",
   "execution_count": null,
   "metadata": {
    "collapsed": false
   },
   "outputs": [],
   "source": [
    "# Merge the first name, last name and company column together to create a \"full_name\" column, runs in place.\n",
    "table_connector.collapse_first_last_company_columns(fully_merged_messages_df)\n",
    "table_connector.collapse_first_last_company_columns(address_book_df)\n",
    "\n",
    "display(fully_merged_messages_df.head(1))\n",
    "display(address_book_df.head(1))"
   ]
  },
  {
   "cell_type": "markdown",
   "metadata": {},
   "source": [
    "# End Setting Up Tables\n",
    "\n",
    "Use `fully_merged_messages_df` and `address_book_df`\n",
    "\n",
    "<hr/>"
   ]
  },
  {
   "cell_type": "code",
   "execution_count": null,
   "metadata": {
    "collapsed": false,
    "scrolled": false
   },
   "outputs": [],
   "source": [
    "# Visualize and output a word tree.\n",
    "\n",
    "import json\n",
    "import wordtree\n",
    "\n",
    "CONTACT_NAME = 'Mom'  #  Freely change this value.\n",
    "ROOT_WORD = 'feel'  #  Freely change this value, note emojis are supported.\n",
    "\n",
    "filtered_texts_i_sent = fully_merged_messages_df[\n",
    "    (fully_merged_messages_df.full_name == CONTACT_NAME) &\n",
    "    (fully_merged_messages_df.is_from_me == 1)]\n",
    "print 'I sent {0:,} texts to {1}'.format(filtered_texts_i_sent.shape[0], CONTACT_NAME)\n",
    "\n",
    "filtered_texts_i_received = fully_merged_messages_df[\n",
    "    (fully_merged_messages_df.full_name == CONTACT_NAME) &\n",
    "    (fully_merged_messages_df.is_from_me == 0)]\n",
    "print 'I received {0:,} texts from {1}'.format(filtered_texts_i_received.shape[0], CONTACT_NAME)\n",
    "\n",
    "filtered_texts =  fully_merged_messages_df[(fully_merged_messages_df.full_name == CONTACT_NAME)]\n",
    "print 'I exchanged {0:,} texts with {1}'.format(filtered_texts.shape[0], CONTACT_NAME)\n",
    "\n",
    "# Returns JSON in the format needed for word trees.\n",
    "def get_google_json_for_dataframe(df):\n",
    "    array_for_json = [[text[1]] for text in df.text.iteritems()]\n",
    "    array_for_json.insert(0, [['Phrases']])\n",
    "    return json.dumps(array_for_json)\n",
    "\n",
    "# You can change tree_type to 'double', 'suffix', or 'prefix', see \n",
    "# https://developers.google.com/chart/interactive/docs/gallery/wordtree#configuration-options for details\n",
    "HTML(wordtree.get_word_tree_html(get_google_json_for_dataframe(filtered_texts_i_received),\n",
    "                                 ROOT_WORD, lowercase=True, tree_type='double'))"
   ]
  },
  {
   "cell_type": "code",
   "execution_count": null,
   "metadata": {
    "collapsed": false
   },
   "outputs": [],
   "source": [
    "# Just a bit of fun to show you who you text the most.\n",
    "# Note \"nan\" means the number was not found in your address book.\n",
    "\n",
    "def get_message_counts(dataframe):\n",
    "    return pd.Series({'Texts sent': dataframe[dataframe.is_from_me == 1].shape[0],\n",
    "                      'Texts received': dataframe[dataframe.is_from_me == 0].shape[0],\n",
    "                      'Texts exchanged': dataframe.shape[0]})\n",
    "messages_grouped = fully_merged_messages_df.groupby('full_name').apply(get_message_counts)\n",
    "messages_grouped = messages_grouped.sort_values(by='Texts exchanged', ascending=False)\n",
    "messages_grouped.head(10)  # Change this value to see more rows"
   ]
  },
  {
   "cell_type": "code",
   "execution_count": null,
   "metadata": {
    "collapsed": false
   },
   "outputs": [],
   "source": [
    "# A bit more fun.\n",
    "%matplotlib inline\n",
    "import matplotlib\n",
    "matplotlib.style.use('ggplot')\n",
    "\n",
    "messages_grouped.head(10).plot(figsize=(20,10), kind='bar')  # Change this value to see more rows"
   ]
  }
 ],
 "metadata": {
  "kernelspec": {
   "display_name": "Python 2",
   "language": "python",
   "name": "python2"
  },
  "language_info": {
   "codemirror_mode": {
    "name": "ipython",
    "version": 2
   },
   "file_extension": ".py",
   "mimetype": "text/x-python",
   "name": "python",
   "nbconvert_exporter": "python",
   "pygments_lexer": "ipython2",
   "version": "2.7.11"
  }
 },
 "nbformat": 4,
 "nbformat_minor": 0
}
